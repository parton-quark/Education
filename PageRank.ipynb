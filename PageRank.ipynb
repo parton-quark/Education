{
  "nbformat": 4,
  "nbformat_minor": 0,
  "metadata": {
    "colab": {
      "name": "pageRank-Copy1.ipynb",
      "version": "0.3.2",
      "provenance": [],
      "collapsed_sections": []
    },
    "language_info": {
      "codemirror_mode": {
        "name": "ipython",
        "version": 3
      },
      "file_extension": ".py",
      "mimetype": "text/x-python",
      "name": "python",
      "nbconvert_exporter": "python",
      "pygments_lexer": "ipython3",
      "version": "3.7.2"
    },
    "kernelspec": {
      "display_name": "Python 3",
      "language": "python",
      "name": "python3"
    }
  },
  "cells": [
    {
      "cell_type": "markdown",
      "metadata": {
        "id": "N_G0XNqCw3sl",
        "colab_type": "text"
      },
      "source": [
        "# Page Rank: How important a web page is\n",
        "Search engine mechanism\n",
        "1. Tour the web page in advance to collect information\n",
        "2. List web pages that contain / relevant text entered by the user\n",
        "3. **Arrange web pages in order of importance and return them to the user**\n",
        "\n",
        "Arrange web pages in order of importance←today's topic"
      ]
    },
    {
      "cell_type": "markdown",
      "metadata": {
        "id": "5ld1BFbkw3sm",
        "colab_type": "text"
      },
      "source": [
        "## Create graph (web pages)\n",
        "\n",
        "node: web page\n",
        "edge: link"
      ]
    },
    {
      "cell_type": "code",
      "metadata": {
        "id": "fMg7ju_Uw3sm",
        "colab_type": "code",
        "colab": {
          "base_uri": "https://localhost:8080/",
          "height": 255
        },
        "outputId": "9b86c613-8c4c-49d8-8644-4bbf5a50d278"
      },
      "source": [
        "# -*- coding: utf-8 -*-\n",
        "import networkx as nx\n",
        "import numpy as np\n",
        "# Directed Graph\n",
        "g = nx.DiGraph()\n",
        "\n",
        "# Add node = web page\n",
        "g.add_node(1)\n",
        "g.add_node(2)\n",
        "g.add_node(3)                                                                                                                     \n",
        "g.add_node(4)\n",
        "g.add_node(5)\n",
        "g.add_node(6)\n",
        "\n",
        "\n",
        "#Add edge (\"link\")\n",
        "g.add_edge(1,2)\n",
        "g.add_edge(1,4)\n",
        "g.add_edge(1,5)\n",
        "g.add_edge(2,3)\n",
        "g.add_edge(3,1)\n",
        "g.add_edge(3,4)\n",
        "g.add_edge(3,5)\n",
        "g.add_edge(4,5)\n",
        "g.add_edge(2,6)\n",
        "g.add_edge(5,6)\n",
        "g.add_edge(1,6)\n",
        "g.add_edge(6,3)\n",
        "\n",
        "nx.draw_networkx(g)"
      ],
      "execution_count": 1,
      "outputs": [
        {
          "output_type": "display_data",
          "data": {
            "image/png": "[encoded data removed]",
            "text/plain": [
              "<Figure size 432x288 with 1 Axes>"
            ]
          },
          "metadata": {
            "tags": []
          }
        }
      ]
    },
    {
      "cell_type": "markdown",
      "metadata": {
        "id": "dt_VtYjCw3sr",
        "colab_type": "text"
      },
      "source": [
        "# PageRank \n",
        "PageRank is a google's algorithm to evaluate the imprtance of a webpage.\n",
        "\n",
        "Page rank is based on the fact that　**\"Important websites\" are linked from many sites**.\n",
        "\n",
        "**Larry Page** and **Sergey Brin** assumed the behavior of Internet users as a **random surfer** as follows.\n",
        "1. Initial states: Everyone starts by randomly selecting the first page \n",
        "2. The person staying on one page transits to another page at the next time slice.\n",
        "    The transition destination page is selected with equal probability from the linked pages from the currently staying page (**link transition**).\n",
        "    Surfers occasionally(〜15%) fly to pages without links (does not have anything to do with sites you've been browsing) (**teleport**)\n",
        "3. Rank a page with a **high probability of staying** as a useful page.\n",
        "\n",
        "PageRank of a website A \n",
        "$$PR(A) = (1-\\alpha)(teleport) + \\alpha(link transition)$$\n",
        "$$= (1-\\alpha)(teleport) + \\alpha (\\sum_{i=1}^{n} \\frac{PR(T_i)}{d(T_i)})$$\n",
        "\n",
        "$\\alpha$ : constant(mainly 0.85)\n",
        "\n",
        "$n$ : number of web pages (nodes)\n",
        "\n",
        "$PR(T_i)$ : PageRank of a page($Ti$) which has link to the website A\n",
        "\n",
        "$d(T_i)$ : The number of the link from the page $Ti$  (equals to \"outdegree\")\n",
        "\n",
        "By using networkX(nx), you can get the pagerank of the pages easily."
      ]
    },
    {
      "cell_type": "code",
      "metadata": {
        "id": "fX_Hng40w3ss",
        "colab_type": "code",
        "colab": {
          "base_uri": "https://localhost:8080/",
          "height": 51
        },
        "outputId": "da08b732-22c3-4454-a986-a7b0b8a1b478"
      },
      "source": [
        "#pagerank\n",
        "pr=nx.pagerank(g,alpha=0.85)\n",
        "print(\"-----pagerank-----\")\n",
        "print(pr)"
      ],
      "execution_count": 2,
      "outputs": [
        {
          "output_type": "stream",
          "text": [
            "-----pagerank-----\n",
            "{1: 0.09874162030309819, 2: 0.04598264175871525, 3: 0.2602674715555196, 4: 0.11972426206181344, 5: 0.22149035859853752, 6: 0.2537936457223158}\n"
          ],
          "name": "stdout"
        }
      ]
    },
    {
      "cell_type": "code",
      "metadata": {
        "id": "RFL2ON1Nw3su",
        "colab_type": "code",
        "colab": {
          "base_uri": "https://localhost:8080/",
          "height": 421
        },
        "outputId": "823edd20-a80d-4e1f-9575-3d02922511ca"
      },
      "source": [
        "node_size = []\n",
        "for i in range(1,7):\n",
        "    node_size.append(pr[i] * 8000)\n",
        "\n",
        "pos={}\n",
        "pos[1]=(0,7)\n",
        "pos[2]=(4,14)\n",
        "pos[3]=(10,14)\n",
        "pos[4]=(14,7)\n",
        "pos[5]=(10,0)\n",
        "pos[6]=(4,0)\n",
        "nx.draw(g, pos, arrowsize=30, node_size = node_size)\n",
        "nx.draw_networkx_labels(g, pos, font_size=18, font_color=\"w\")"
      ],
      "execution_count": 3,
      "outputs": [
        {
          "output_type": "execute_result",
          "data": {
            "text/plain": [
              "{1: Text(0, 7, '1'),\n",
              " 2: Text(4, 14, '2'),\n",
              " 3: Text(10, 14, '3'),\n",
              " 4: Text(14, 7, '4'),\n",
              " 5: Text(10, 0, '5'),\n",
              " 6: Text(4, 0, '6')}"
            ]
          },
          "metadata": {
            "tags": []
          },
          "execution_count": 3
        },
        {
          "output_type": "display_data",
          "data": {
            "image/png": "[encoded data removed]",
            "text/plain": [
              "<Figure size 432x288 with 1 Axes>"
            ]
          },
          "metadata": {
            "tags": []
          }
        }
      ]
    },
    {
      "cell_type": "markdown",
      "metadata": {
        "id": "DEgLoo_Aw3sx",
        "colab_type": "text"
      },
      "source": [
        "Q. How can we calculate the PR?\n",
        "## A. **Use LINEAR ALGEBRA!!**"
      ]
    },
    {
      "cell_type": "markdown",
      "metadata": {
        "id": "BdHCu8fXw3sx",
        "colab_type": "text"
      },
      "source": [
        "You can make the **transition matrix** .\n",
        "1. Link transition matrix \n",
        "2. Teleportation matrix"
      ]
    },
    {
      "cell_type": "markdown",
      "metadata": {
        "id": "mRJpIJOgw3sy",
        "colab_type": "text"
      },
      "source": [
        "## 1. Link transition\n",
        "\n",
        "$$L_{ij}=\\frac{A_{ij}}{d(i)}$$\n",
        "$d(i)$ is the outdegree of the node i. $$d(i) = \\sum_{j=0}^{n} A_{ij}$$"
      ]
    },
    {
      "cell_type": "code",
      "metadata": {
        "id": "DzW4d46Cw3sy",
        "colab_type": "code",
        "colab": {
          "base_uri": "https://localhost:8080/",
          "height": 119
        },
        "outputId": "10c88df6-6600-4588-adc0-3339813a0c99"
      },
      "source": [
        "A = nx.to_numpy_matrix(g)\n",
        "print(A)"
      ],
      "execution_count": 4,
      "outputs": [
        {
          "output_type": "stream",
          "text": [
            "[[0. 1. 0. 1. 1. 1.]\n",
            " [0. 0. 1. 0. 0. 1.]\n",
            " [1. 0. 0. 1. 1. 0.]\n",
            " [0. 0. 0. 0. 1. 0.]\n",
            " [0. 0. 0. 0. 0. 1.]\n",
            " [0. 0. 1. 0. 0. 0.]]\n"
          ],
          "name": "stdout"
        }
      ]
    },
    {
      "cell_type": "markdown",
      "metadata": {
        "id": "SJHT7eTGw3s1",
        "colab_type": "text"
      },
      "source": [
        "For example, d(1) is 2"
      ]
    },
    {
      "cell_type": "code",
      "metadata": {
        "id": "ws11kZM3w3s1",
        "colab_type": "code",
        "colab": {
          "base_uri": "https://localhost:8080/",
          "height": 119
        },
        "outputId": "e2b660eb-f798-4f44-bfeb-9ae7a66aa302"
      },
      "source": [
        "D = np.sum(A, axis=1)\n",
        "print(D)"
      ],
      "execution_count": 5,
      "outputs": [
        {
          "output_type": "stream",
          "text": [
            "[[4.]\n",
            " [2.]\n",
            " [3.]\n",
            " [1.]\n",
            " [1.]\n",
            " [1.]]\n"
          ],
          "name": "stdout"
        }
      ]
    },
    {
      "cell_type": "code",
      "metadata": {
        "id": "x_ohgDnZw3s4",
        "colab_type": "code",
        "colab": {}
      },
      "source": [
        "L = np.array([[0, 1/4, 0, 1/4, 1/4, 1/4],[0, 0, 1/2, 0, 0, 1/2],[1/3, 0, 0, 1/3, 1/3, 0],[0, 0, 0, 0, 1, 0],[0, 0, 0, 0, 0, 1],[0, 0, 1, 0, 0, 0]])"
      ],
      "execution_count": 0,
      "outputs": []
    },
    {
      "cell_type": "code",
      "metadata": {
        "id": "QrFqjV96w3s5",
        "colab_type": "code",
        "colab": {
          "base_uri": "https://localhost:8080/",
          "height": 119
        },
        "outputId": "bd17c027-7a32-4b9f-e2ed-12b1c8740953"
      },
      "source": [
        "print(L)"
      ],
      "execution_count": 7,
      "outputs": [
        {
          "output_type": "stream",
          "text": [
            "[[0.         0.25       0.         0.25       0.25       0.25      ]\n",
            " [0.         0.         0.5        0.         0.         0.5       ]\n",
            " [0.33333333 0.         0.         0.33333333 0.33333333 0.        ]\n",
            " [0.         0.         0.         0.         1.         0.        ]\n",
            " [0.         0.         0.         0.         0.         1.        ]\n",
            " [0.         0.         1.         0.         0.         0.        ]]\n"
          ],
          "name": "stdout"
        }
      ]
    },
    {
      "cell_type": "markdown",
      "metadata": {
        "id": "WOQD0X2fw3s9",
        "colab_type": "text"
      },
      "source": [
        "## 2. Teleportation matrix (=Initial states)"
      ]
    },
    {
      "cell_type": "code",
      "metadata": {
        "id": "UfoqPQtOw3s9",
        "colab_type": "code",
        "colab": {
          "base_uri": "https://localhost:8080/",
          "height": 34
        },
        "outputId": "1d64f991-a35c-46e6-fef2-8d0a4773af62"
      },
      "source": [
        "T = np.full((1,6), 1/6)\n",
        "print(T)"
      ],
      "execution_count": 8,
      "outputs": [
        {
          "output_type": "stream",
          "text": [
            "[[0.16666667 0.16666667 0.16666667 0.16666667 0.16666667 0.16666667]]\n"
          ],
          "name": "stdout"
        }
      ]
    },
    {
      "cell_type": "markdown",
      "metadata": {
        "id": "uKXpzE2Tw3s_",
        "colab_type": "text"
      },
      "source": [
        "$$PR(time) = 0.15 * T + 0.85 * PR(time - 1) * L$$"
      ]
    },
    {
      "cell_type": "code",
      "metadata": {
        "id": "feASasK1w3tA",
        "colab_type": "code",
        "colab": {
          "base_uri": "https://localhost:8080/",
          "height": 34
        },
        "outputId": "537afbbc-16f1-4abd-b1bc-3b62cf167323"
      },
      "source": [
        "PR1 = 0.15* T + 0.85 * np.dot(T, L)\n",
        "print(PR1)"
      ],
      "execution_count": 9,
      "outputs": [
        {
          "output_type": "stream",
          "text": [
            "[[0.07222222 0.06041667 0.2375     0.10763889 0.24930556 0.27291667]]\n"
          ],
          "name": "stdout"
        }
      ]
    },
    {
      "cell_type": "code",
      "metadata": {
        "id": "GI8e6Dcgw3tC",
        "colab_type": "code",
        "colab": {}
      },
      "source": [
        "def PR(t, T, L):\n",
        "    if t == 1:\n",
        "        return 0.15* T + 0.85 * np.dot(T, L)\n",
        "    else:\n",
        "        return 0.15 * T + 0.85 * np.dot(PR(t-1, T, L), L)"
      ],
      "execution_count": 0,
      "outputs": []
    },
    {
      "cell_type": "code",
      "metadata": {
        "id": "Hfl7kDVfw3tD",
        "colab_type": "code",
        "colab": {
          "base_uri": "https://localhost:8080/",
          "height": 34
        },
        "outputId": "f50b50c6-37a2-4250-bbec-f4f3e784ee80"
      },
      "source": [
        "print(PR(1, T, L))"
      ],
      "execution_count": 11,
      "outputs": [
        {
          "output_type": "stream",
          "text": [
            "[[0.07222222 0.06041667 0.2375     0.10763889 0.24930556 0.27291667]]\n"
          ],
          "name": "stdout"
        }
      ]
    },
    {
      "cell_type": "code",
      "metadata": {
        "id": "LdDku5cjw3tF",
        "colab_type": "code",
        "colab": {
          "base_uri": "https://localhost:8080/",
          "height": 34
        },
        "outputId": "f016b504-15ff-481b-8c44-68427402df86"
      },
      "source": [
        "print(PR(10, T, L))"
      ],
      "execution_count": 12,
      "outputs": [
        {
          "output_type": "stream",
          "text": [
            "[[0.0991236  0.0456917  0.26234495 0.1198153  0.22039447 0.25262998]]\n"
          ],
          "name": "stdout"
        }
      ]
    },
    {
      "cell_type": "code",
      "metadata": {
        "id": "x1-aZ3Xpxz5F",
        "colab_type": "code",
        "colab": {
          "base_uri": "https://localhost:8080/",
          "height": 34
        },
        "outputId": "d013d320-fd4c-45da-ba21-71d6a3d7ae83"
      },
      "source": [
        "pagerank20 = PR(20, T, L)\n",
        "print(pagerank20)"
      ],
      "execution_count": 13,
      "outputs": [
        {
          "output_type": "stream",
          "text": [
            "[[0.09871457 0.04598071 0.26030431 0.11969528 0.22146421 0.25384093]]\n"
          ],
          "name": "stdout"
        }
      ]
    },
    {
      "cell_type": "code",
      "metadata": {
        "id": "vKDRoTgHw3tI",
        "colab_type": "code",
        "colab": {
          "base_uri": "https://localhost:8080/",
          "height": 421
        },
        "outputId": "e377144d-2332-4cce-8b40-a03fc849011e"
      },
      "source": [
        "node_size = []\n",
        "for i in range(0,6):\n",
        "    node_size.append(pagerank20[0,i] * 8000)\n",
        "\n",
        "pos={}\n",
        "pos[1]=(0,7)\n",
        "pos[2]=(4,14)\n",
        "pos[3]=(10,14)\n",
        "pos[4]=(14,7)\n",
        "pos[5]=(10,0)\n",
        "pos[6]=(4,0)\n",
        "nx.draw(g, pos, arrowsize=30, node_size = node_size)\n",
        "nx.draw_networkx_labels(g, pos, font_size=18, font_color=\"w\")"
      ],
      "execution_count": 14,
      "outputs": [
        {
          "output_type": "execute_result",
          "data": {
            "text/plain": [
              "{1: Text(0, 7, '1'),\n",
              " 2: Text(4, 14, '2'),\n",
              " 3: Text(10, 14, '3'),\n",
              " 4: Text(14, 7, '4'),\n",
              " 5: Text(10, 0, '5'),\n",
              " 6: Text(4, 0, '6')}"
            ]
          },
          "metadata": {
            "tags": []
          },
          "execution_count": 14
        },
        {
          "output_type": "display_data",
          "data": {
            "image/png": "[encoded data removed]",
            "text/plain": [
              "<Figure size 432x288 with 1 Axes>"
            ]
          },
          "metadata": {
            "tags": []
          }
        }
      ]
    },
    {
      "cell_type": "markdown",
      "metadata": {
        "id": "lnwmZqbGyInS",
        "colab_type": "text"
      },
      "source": [
        "**The calculation result is approaching the result of networkX!**\n",
        "In reality, even t = 10 is considered sufficient."
      ]
    },
    {
      "cell_type": "code",
      "metadata": {
        "id": "CYCzgLwUyHOO",
        "colab_type": "code",
        "colab": {}
      },
      "source": [
        ""
      ],
      "execution_count": 0,
      "outputs": []
    }
  ]
}